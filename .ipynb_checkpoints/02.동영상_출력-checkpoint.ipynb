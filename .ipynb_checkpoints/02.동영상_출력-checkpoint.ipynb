{
 "cells": [
  {
   "cell_type": "markdown",
   "id": "51cd879c-2d6d-4375-873e-d6292aa0e667",
   "metadata": {},
   "source": [
    "# 2. 동영상 출력"
   ]
  },
  {
   "cell_type": "markdown",
   "id": "1817d0e2-aad2-4d7e-b47c-0b87805dcb85",
   "metadata": {},
   "source": [
    "### 동영상 파일 출력"
   ]
  },
  {
   "cell_type": "code",
   "execution_count": 6,
   "id": "a774cfca-60c6-4123-b80e-7a3b057f4263",
   "metadata": {},
   "outputs": [
    {
     "name": "stdout",
     "output_type": "stream",
     "text": [
      "더이상 가져올 프레임이 없어요\n"
     ]
    }
   ],
   "source": [
    "import cv2\n",
    "cap = cv2.VideoCapture('video.mp4')\n",
    "\n",
    "while cap.isOpened():# 동영상 파일이 올바로 열렸는지?\n",
    "    ret, frame = cap.read() # ret : 성공여부, frame : 받아온 이미지(프레임)\n",
    "    if not ret:\n",
    "        print('더이상 가져올 프레임이 없어요')\n",
    "        break\n",
    "        \n",
    "    cv2.imshow('video', frame)\n",
    "    \n",
    "    if cv2.waitKey(1) == ord('q'):\n",
    "        print('사용자 입력에 의해 종료합니다')\n",
    "        break\n",
    "        \n",
    "cap.release() # 자원 해제\n",
    "cv2.destroyAllWindows() # 모든 창 닫기"
   ]
  },
  {
   "cell_type": "markdown",
   "id": "3a38476a-a204-4e2c-a5f5-01ceeb84e5ba",
   "metadata": {},
   "source": [
    "### 카메라 출력"
   ]
  },
  {
   "cell_type": "code",
   "execution_count": 8,
   "id": "7e308c88-97bd-4edf-9403-a7f495ece7f1",
   "metadata": {},
   "outputs": [],
   "source": [
    "import cv2\n",
    "cap = cv2.VideoCapture(0) #0번째 카메라 장치 (Device ID)\n",
    "\n",
    "if not cap.isOpened(): # 카메라가 잘 열리지 않은 경우\n",
    "    exit() # 프로그램 종료\n",
    "\n",
    "while True:\n",
    "    ret, frame = cap.read()\n",
    "    if not ret:\n",
    "        break\n",
    "        \n",
    "    cv2.imshow('camera', frame)\n",
    "    if cv2.waitKey(1) == ord('q'): #사용자가 q를 입력하면 종료\n",
    "        break\n",
    "        \n",
    "cap.release()\n",
    "cv2.destroyAllWindows()"
   ]
  }
 ],
 "metadata": {
  "kernelspec": {
   "display_name": "Python 3 (ipykernel)",
   "language": "python",
   "name": "python3"
  },
  "language_info": {
   "codemirror_mode": {
    "name": "ipython",
    "version": 3
   },
   "file_extension": ".py",
   "mimetype": "text/x-python",
   "name": "python",
   "nbconvert_exporter": "python",
   "pygments_lexer": "ipython3",
   "version": "3.9.12"
  }
 },
 "nbformat": 4,
 "nbformat_minor": 5
}
